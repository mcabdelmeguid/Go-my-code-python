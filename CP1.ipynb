# answer 1
def fullname(firstname,lastname):
  return lastname+" "+firstname
x=fullname("mostafa","abdelmeguid")
print(x)

#answer 2
def sum(n):
  return n+int(str(n)+str(n))+int(str(n)+str(n)+str(n))
x=sum(5)
print(x)

#answer 3
def evenodd(x):
 if  x%2==0: 
     print("Even Number Habibi") 
 elif x%2==1:
     print("Odd Thats so odd")
x=evenodd(3)

#answer 4
def seveners():
 sum=""
 for val in range(2000,3201):
  if  val%7==0 and val%5!=0:
     sum = sum + str(val)+" ,"
 print(sum)
x=seveners()

#answer 5
y=int(input("enter number:"))
x=1
for i in range(1,y+1):
  x = x*i
print(x)

#answer 6 

y=(input("enter word"))
p= len(y)
x = range(p)
for i in x:
  if i%2==0:
    print(y[i],end="")

#answer 7
x=(input("enter price"))
x=int(x)
if  x >= 500: 
     print(x/2) 
elif x < 500 and x>=200:
     print(x*0.7)
elif x < 200:
     print(x*0.9)
     
