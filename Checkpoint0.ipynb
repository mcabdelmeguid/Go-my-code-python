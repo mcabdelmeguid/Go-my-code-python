{
  "nbformat": 4,
  "nbformat_minor": 0,
  "metadata": {
    "colab": {
      "name": "Untitled0.ipynb",
      "provenance": []
    },
    "kernelspec": {
      "name": "python3",
      "display_name": "Python 3"
    },
    "language_info": {
      "name": "python"
    }
  },
  "cells": [
    {
      "cell_type": "code",
      "execution_count": 1,
      "metadata": {
        "colab": {
          "base_uri": "https://localhost:8080/"
        },
        "id": "nDnPM6ppyKOa",
        "outputId": "0f9b5b1f-3157-4d88-ddf9-290bffd76cec"
      },
      "outputs": [
        {
          "output_type": "stream",
          "name": "stdout",
          "text": [
            "Welcome to python world! Let's start coding\n"
          ]
        }
      ],
      "source": [
        "print(\"Welcome to python world! Let's start coding\")"
      ]
    }
  ]
}